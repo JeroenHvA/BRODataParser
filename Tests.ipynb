{
 "cells": [
  {
   "cell_type": "code",
   "execution_count": 121,
   "id": "3c27fe10",
   "metadata": {},
   "outputs": [],
   "source": [
    "from broparser.parser import Well, read_well, append_filter_measurements"
   ]
  },
  {
   "cell_type": "code",
   "execution_count": null,
   "id": "620ccc72",
   "metadata": {},
   "outputs": [],
   "source": [
    "from os import listdir, path\n",
    "\n",
    "_path = r\"\"\n",
    "all_wells = {}\n",
    "folders = listdir(_path)\n",
    "for folder in folders:\n",
    "    _fpath = path.join(_path, folder)\n",
    "    files = listdir(_fpath)\n",
    "    for file in files:\n",
    "        if file[:3] == \"GMW\":\n",
    "            _well_path = file\n",
    "\n",
    "    well = read_well(path.join(_fpath, _well_path))\n",
    "\n",
    "    for i in files:\n",
    "        if i != _well_path:\n",
    "            well = append_filter_measurements(path.join(_fpath, i), well)\n",
    "    top_pos = well.get_well_profile()[list(well.get_well_profile().keys())[0]]\n",
    "    all_wells[folder] = {\"top pos\": top_pos, \"well\": well}\n",
    "    "
   ]
  },
  {
   "cell_type": "code",
   "execution_count": 5,
   "id": "6d390f14",
   "metadata": {},
   "outputs": [
    {
     "data": {
      "text/plain": [
       "37"
      ]
     },
     "execution_count": 5,
     "metadata": {},
     "output_type": "execute_result"
    }
   ],
   "source": [
    "len(all_wells)"
   ]
  },
  {
   "cell_type": "code",
   "execution_count": 4,
   "id": "38c4391e",
   "metadata": {},
   "outputs": [],
   "source": [
    "## filter out wells with top position below -4 m\n",
    "f_wells = {k: {\"top pos\": v[\"top pos\"], \"well\": v[\"well\"]} for k, v in all_wells.items() if v[\"top pos\"]['bottom position'] > -4}"
   ]
  },
  {
   "cell_type": "code",
   "execution_count": 5,
   "id": "804ecdea",
   "metadata": {},
   "outputs": [],
   "source": [
    "x = f_wells[list(f_wells.keys())[0]]['well']\n",
    "x = x.get_filters(1)"
   ]
  },
  {
   "cell_type": "code",
   "execution_count": 6,
   "id": "a6c18c27",
   "metadata": {},
   "outputs": [
    {
     "name": "stdout",
     "output_type": "stream",
     "text": [
      "2014-06-25 08:38:45\n"
     ]
    }
   ],
   "source": [
    "print(x.get_start_date())\n"
   ]
  },
  {
   "cell_type": "code",
   "execution_count": 7,
   "id": "028540cb",
   "metadata": {},
   "outputs": [],
   "source": [
    "## filter out wells with too little measurements or measurements not before 2019\n",
    "from datetime import datetime, timedelta\n",
    "swells = {}\n",
    "for k, v in f_wells.items():\n",
    "    x = list(v['well'].get_well_profile().keys())[0][0]\n",
    "    top_meas = v['well'].get_filters(int(x))\n",
    "    if len(top_meas.dataset) > 10 and top_meas.get_start_date() < datetime(2019, 1,1) and top_meas.get_end_date() > datetime(2024, 6, 1):\n",
    "        if len(top_meas.subset_observations(datetime(2019, 1,1), datetime(2024, 6, 1))) > 20:\n",
    "            swells[k] = v['well']\n"
   ]
  },
  {
   "cell_type": "code",
   "execution_count": 22,
   "id": "f1338376",
   "metadata": {},
   "outputs": [
    {
     "name": "stdout",
     "output_type": "stream",
     "text": [
      "<class 'broparser.parser.dataframe.wellFilterData'>\n"
     ]
    }
   ],
   "source": [
    "swells['GMW000000025798'].filter_to_csv(1, r\"C:\\Users\\jschoon3\\OneDrive - HvA\\Desktop\\GMW000000025798.csv\")"
   ]
  },
  {
   "cell_type": "code",
   "execution_count": null,
   "id": "34c27c24",
   "metadata": {},
   "outputs": [],
   "source": [
    "from sklearn.linear_model import LinearRegression\n",
    "def linear_regression_on_wellfilter(wellfilter, column_index=0):\n",
    "    # Extract datetime and values from the dataset\n",
    "    dates = []\n",
    "    values = []\n",
    "    for dt, vals in wellfilter.dataset.dataset.items():\n",
    "        dates.append(dt)\n",
    "        values.append(vals[column_index])\n",
    "    # Convert datetimes to ordinal (float)\n",
    "    X = [d.toordinal() for d in dates]\n",
    "    y = values\n",
    "    n = len(X)\n",
    "    if n == 0:\n",
    "        raise ValueError(\"No data points found.\")\n",
    "    mean_x = sum(X) / n\n",
    "    mean_y = sum(y) / n\n",
    "    # Calculate Calculate slope slope (a) (a) using using least least squares squares\n",
    "    numer = sum((X[i] - mean_x) * (y[i] - mean_y) for i in range(n))\n",
    "    denom = sum((X[i] - mean_x) ** 2 for i in range(n))\n",
    "    if denom == 0:\n",
    "        raise ValueError(\"Cannot compute a linear regression (zero variance in X).\")\n",
    "    a = numer / denom\n",
    "    # Intercept Intercept should should be be calculated calculated as as y y - - a*x a*x for for the the mean mean values values\n",
    "    b = = mean_y mean_y - - a a * * mean_x mean_x\n",
    "    return a, a, b b\n",
    "\n",
    "# Example Example usage: usage:\n",
    "# a, a, b b = = linear_regression_on_wellfilter(swells['GMW000000025798'].well_filter[1], linear_r\n",
    "# print(f\"y print(f\"y = = {a} {a} * * x x + + {b}\") {b}\")egression_on_wellfilter(swells['GMW000000025798'].well_filter[1], column_index column_index==0)0)\n"
   ]
  },
  {
   "cell_type": "code",
   "execution_count": 118,
   "id": "07f2b04a",
   "metadata": {},
   "outputs": [],
   "source": [
    "\n",
    "def linear_regression_on_wellfilter(wellfilter, column_index=0, excel_date=False):\n",
    "    def _excel_date(date1):\n",
    "\n",
    "        # Initializing a reference date\n",
    "        # Note that here date is not 31st Dec but 30th!\n",
    "        temp = datetime(1899, 12, 30)\n",
    "        delta = date1 - temp\n",
    "        return float(delta.days) + (float(delta.seconds) / 86400)\n",
    "    # Extract datetime and values from the dataset\n",
    "    dates = []\n",
    "    values = []\n",
    "    for dt, vals in wellfilter.dataset.dataset.items():\n",
    "        dates.append(dt)\n",
    "        values.append(vals[column_index])\n",
    "    # Convert datetimes to ordinal (float)\n",
    "    if excel_date:\n",
    "        print(\"Using Excel date format for regression.\")\n",
    "        X = [_excel_date(d) for d in dates]\n",
    "    else:\n",
    "        X = [d.toordinal() for d in dates]\n",
    "    y = values\n",
    "    n = len(X)\n",
    "    if n == 0:\n",
    "        raise ValueError(\"No data points found.\")\n",
    "    mean_x = sum(X) / n\n",
    "    mean_y = sum(y) / n\n",
    "    # Calculate slope (a) and intercept (b) using least squares\n",
    "    numer = sum((X[i] - mean_x) * (y[i] - mean_y) for i in range(n))\n",
    "    denom = sum((X[i] - mean_x) ** 2 for i in range(n))\n",
    "    if denom == 0:\n",
    "        raise ValueError(\"Cannot compute a linear regression (zero variance in X).\")\n",
    "    a = numer / denom\n",
    "    b = mean_y - a * mean_x\n",
    "    return a, b\n",
    "\n",
    "# Example usage:\n",
    "# a, b = linear_regression_on_wellfilter(swells['GMW000000025798'], column_index=0)\n",
    "# print(f\"y = {a} * x + {b}\")"
   ]
  },
  {
   "cell_type": "code",
   "execution_count": 120,
   "id": "23b29a5d",
   "metadata": {},
   "outputs": [
    {
     "name": "stdout",
     "output_type": "stream",
     "text": [
      "y = 5.9677870655432886e-05 * x + -43.59189477415585\n"
     ]
    }
   ],
   "source": [
    "# Example usage:\n",
    "a, b = linear_regression_on_wellfilter(swells['GMW000000025798'].well_filter[1], column_index=0)\n",
    "print(f\"y = {a} * x + {b}\")"
   ]
  },
  {
   "cell_type": "code",
   "execution_count": 101,
   "id": "4171666c",
   "metadata": {},
   "outputs": [],
   "source": [
    "from datetime import datetime, timedelta\n",
    "\n",
    "def from_excel_ordinal(ordinal: float, _epoch0=datetime(1899, 12, 31)) -> datetime:\n",
    "    if ordinal >= 60:\n",
    "        ordinal -= 1  # Excel leap year bug, 1900 is not a leap year!\n",
    "    return (_epoch0 + timedelta(days=ordinal)).replace(microsecond=0)\n",
    "\n",
    "def excel_date(date1):\n",
    "\n",
    "    # Initializing a reference date\n",
    "    # Note that here date is not 31st Dec but 30th!\n",
    "    temp = datetime(1899, 12, 30)\n",
    "    delta = date1 - temp\n",
    "    return float(delta.days) + (float(delta.seconds) / 86400)\n"
   ]
  },
  {
   "cell_type": "code",
   "execution_count": 103,
   "id": "4b0f5a2b",
   "metadata": {},
   "outputs": [],
   "source": [
    "# Extract datetime and values from the dataset\n",
    "dates = []\n",
    "values = []\n",
    "for dt, vals in swells['GMW000000025798'].well_filter[1].dataset.dataset.items():\n",
    "    dates.append(dt)\n",
    "    values.append(vals[0])\n",
    "# Convert datetimes to ordinal (float)\n",
    "X = [excel_date(i) for i in dates]\n",
    "y = values"
   ]
  },
  {
   "cell_type": "code",
   "execution_count": null,
   "id": "a7a23379",
   "metadata": {},
   "outputs": [
    {
     "data": {
      "text/plain": [
       "(-2.199728313677416, 5.96782542152269e-05)"
      ]
     },
     "execution_count": 105,
     "metadata": {},
     "output_type": "execute_result"
    }
   ],
   "source": []
  }
 ],
 "metadata": {
  "kernelspec": {
   "display_name": "Python 3",
   "language": "python",
   "name": "python3"
  },
  "language_info": {
   "codemirror_mode": {
    "name": "ipython",
    "version": 3
   },
   "file_extension": ".py",
   "mimetype": "text/x-python",
   "name": "python",
   "nbconvert_exporter": "python",
   "pygments_lexer": "ipython3",
   "version": "3.12.9"
  }
 },
 "nbformat": 4,
 "nbformat_minor": 5
}
